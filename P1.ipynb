{
 "cells": [
  {
   "cell_type": "markdown",
   "metadata": {},
   "source": [
    "# Self-Driving Car Engineer Nanodegree\n",
    "\n",
    "\n",
    "## Project: **Finding Lane Lines on the Road** \n",
    "***\n",
    "In this project, you will use the tools you learned about in the lesson to identify lane lines on the road.  You can develop your pipeline on a series of individual images, and later apply the result to a video stream (really just a series of images). Check out the video clip \"raw-lines-example.mp4\" (also contained in this repository) to see what the output should look like after using the helper functions below. \n",
    "\n",
    "Once you have a result that looks roughly like \"raw-lines-example.mp4\", you'll need to get creative and try to average and/or extrapolate the line segments you've detected to map out the full extent of the lane lines.  You can see an example of the result you're going for in the video \"P1_example.mp4\".  Ultimately, you would like to draw just one line for the left side of the lane, and one for the right.\n",
    "\n",
    "In addition to implementing code, there is a brief writeup to complete. The writeup should be completed in a separate file, which can be either a markdown file or a pdf document. There is a [write up template](https://github.com/udacity/CarND-LaneLines-P1/blob/master/writeup_template.md) that can be used to guide the writing process. Completing both the code in the Ipython notebook and the writeup template will cover all of the [rubric points](https://review.udacity.com/#!/rubrics/322/view) for this project.\n",
    "\n",
    "---\n",
    "Let's have a look at our first image called 'test_images/solidWhiteRight.jpg'.  Run the 2 cells below (hit Shift-Enter or the \"play\" button above) to display the image.\n",
    "\n",
    "**Note: If, at any point, you encounter frozen display windows or other confounding issues, you can always start again with a clean slate by going to the \"Kernel\" menu above and selecting \"Restart & Clear Output\".**\n",
    "\n",
    "---"
   ]
  },
  {
   "cell_type": "markdown",
   "metadata": {},
   "source": [
    "**The tools you have are color selection, region of interest selection, grayscaling, Gaussian smoothing, Canny Edge Detection and Hough Tranform line detection.  You  are also free to explore and try other techniques that were not presented in the lesson.  Your goal is piece together a pipeline to detect the line segments in the image, then average/extrapolate them and draw them onto the image for display (as below).  Once you have a working pipeline, try it out on the video stream below.**\n",
    "\n",
    "---\n",
    "\n",
    "<figure>\n",
    " <img src=\"examples/line-segments-example.jpg\" width=\"380\" alt=\"Combined Image\" />\n",
    " <figcaption>\n",
    " <p></p> \n",
    " <p style=\"text-align: center;\"> Your output should look something like this (above) after detecting line segments using the helper functions below </p> \n",
    " </figcaption>\n",
    "</figure>\n",
    " <p></p> \n",
    "<figure>\n",
    " <img src=\"examples/laneLines_thirdPass.jpg\" width=\"380\" alt=\"Combined Image\" />\n",
    " <figcaption>\n",
    " <p></p> \n",
    " <p style=\"text-align: center;\"> Your goal is to connect/average/extrapolate line segments to get output like this</p> \n",
    " </figcaption>\n",
    "</figure>"
   ]
  },
  {
   "cell_type": "markdown",
   "metadata": {},
   "source": [
    "**Run the cell below to import some packages.  If you get an `import error` for a package you've already installed, try changing your kernel (select the Kernel menu above --> Change Kernel).  Still have problems?  Try relaunching Jupyter Notebook from the terminal prompt.  Also, consult the forums for more troubleshooting tips.**  "
   ]
  },
  {
   "cell_type": "markdown",
   "metadata": {},
   "source": [
    "## Import Packages"
   ]
  },
  {
   "cell_type": "code",
   "execution_count": 1,
   "metadata": {},
   "outputs": [],
   "source": [
    "#importing some useful packages\n",
    "import matplotlib.pyplot as plt\n",
    "import matplotlib.image as mpimg\n",
    "import numpy as np\n",
    "import cv2\n",
    "%matplotlib inline"
   ]
  },
  {
   "cell_type": "markdown",
   "metadata": {},
   "source": [
    "## Read in an Image"
   ]
  },
  {
   "cell_type": "code",
   "execution_count": null,
   "metadata": {},
   "outputs": [],
   "source": [
    "#reading in an image\n",
    "image = mpimg.imread('test_images/solidWhiteRight.jpg')\n",
    "\n",
    "#printing out some stats and plotting\n",
    "print('This image is:', type(image), 'with dimensions:', image.shape)\n",
    "plt.imshow(image)  # if you wanted to show a single color channel image called 'gray', for example, call as plt.imshow(gray, cmap='gray')"
   ]
  },
  {
   "cell_type": "markdown",
   "metadata": {},
   "source": [
    "## Ideas for Lane Detection Pipeline"
   ]
  },
  {
   "cell_type": "markdown",
   "metadata": {},
   "source": [
    "**Some OpenCV functions (beyond those introduced in the lesson) that might be useful for this project are:**\n",
    "\n",
    "`cv2.inRange()` for color selection  \n",
    "`cv2.fillPoly()` for regions selection  \n",
    "`cv2.line()` to draw lines on an image given endpoints  \n",
    "`cv2.addWeighted()` to coadd / overlay two images\n",
    "`cv2.cvtColor()` to grayscale or change color\n",
    "`cv2.imwrite()` to output images to file  \n",
    "`cv2.bitwise_and()` to apply a mask to an image\n",
    "\n",
    "**Check out the OpenCV documentation to learn about these and discover even more awesome functionality!**"
   ]
  },
  {
   "cell_type": "markdown",
   "metadata": {},
   "source": [
    "## Helper Functions"
   ]
  },
  {
   "cell_type": "markdown",
   "metadata": {},
   "source": [
    "Below are some helper functions to help get you started. They should look familiar from the lesson!"
   ]
  },
  {
   "cell_type": "markdown",
   "metadata": {},
   "source": [
    "## Test Images\n",
    "\n",
    "Build your pipeline to work on the images in the directory \"test_images\"  \n",
    "**You should make sure your pipeline works well on these images before you try the videos.**"
   ]
  },
  {
   "cell_type": "code",
   "execution_count": 2,
   "metadata": {},
   "outputs": [],
   "source": [
    "import math\n",
    "\n",
    "def grayscale(img):\n",
    "    \"\"\"Applies the Grayscale transform\n",
    "    This will return an image with only one color channel\n",
    "    but NOTE: to see the returned image as grayscale\n",
    "    (assuming your grayscaled image is called 'gray')\n",
    "    you should call plt.imshow(gray, cmap='gray')\"\"\"\n",
    "    return cv2.cvtColor(img, cv2.COLOR_RGB2GRAY)\n",
    "    # Or use BGR2GRAY if you read an image with cv2.imread()\n",
    "    # return cv2.cvtColor(img, cv2.COLOR_BGR2GRAY)\n",
    "    \n",
    "def canny(img, low_threshold, high_threshold):\n",
    "    \"\"\"Applies the Canny transform\"\"\"\n",
    "    return cv2.Canny(img, low_threshold, high_threshold)\n",
    "\n",
    "def gaussian_blur(img, kernel_size):\n",
    "    \"\"\"Applies a Gaussian Noise kernel\"\"\"\n",
    "    return cv2.GaussianBlur(img, (kernel_size, kernel_size), 0)\n",
    "\n",
    "def region_of_interest(img, vertices):\n",
    "    \"\"\"\n",
    "    Applies an image mask.\n",
    "    \n",
    "    Only keeps the region of the image defined by the polygon\n",
    "    formed from `vertices`. The rest of the image is set to black.\n",
    "    \"\"\"\n",
    "    #defining a blank mask to start with\n",
    "    mask = np.zeros_like(img)   \n",
    "    \n",
    "    #defining a 3 channel or 1 channel color to fill the mask with depending on the input image\n",
    "    if len(img.shape) > 2:\n",
    "        channel_count = img.shape[2]  # i.e. 3 or 4 depending on your image\n",
    "        ignore_mask_color = (255,) * channel_count\n",
    "    else:\n",
    "        ignore_mask_color = 255\n",
    "        \n",
    "    #filling pixels inside the polygon defined by \"vertices\" with the fill color    \n",
    "    cv2.fillPoly(mask, vertices, ignore_mask_color)\n",
    "    \n",
    "    #returning the image only where mask pixels are nonzero\n",
    "    masked_image = cv2.bitwise_and(img, mask)\n",
    "    return masked_image\n",
    "\n",
    "\n",
    "def draw_lines(img, lines, color=[255, 0, 0], thickness=2):\n",
    "    \"\"\"\n",
    "    NOTE: this is the function you might want to use as a starting point once you want to \n",
    "    average/extrapolate the line segments you detect to map out the full\n",
    "    extent of the lane (going from the result shown in raw-lines-example.mp4\n",
    "    to that shown in P1_example.mp4).  \n",
    "    \n",
    "    Think about things like separating line segments by their \n",
    "    slope ((y2-y1)/(x2-x1)) to decide which segments are part of the left\n",
    "    line vs. the right line.  Then, you can average the position of each of \n",
    "    the lines and extrapolate to the top and bottom of the lane.\n",
    "    \n",
    "    This function draws `lines` with `color` and `thickness`.    \n",
    "    Lines are drawn on the image inplace (mutates the image).\n",
    "    If you want to make the lines semi-transparent, think about combining\n",
    "    this function with the weighted_img() function below\n",
    "    \"\"\"\n",
    "\n",
    "    for line in lines:\n",
    "        for x1,y1,x2,y2 in line:\n",
    "            cv2.line(img, (x1, y1), (x2, y2), color, thickness)\n",
    "\n",
    "def hough_lines(img, rho, theta, threshold, min_line_len, max_line_gap):\n",
    "    \"\"\"\n",
    "    `img` should be the output of a Canny transform.\n",
    "        \n",
    "    Returns detected lines\n",
    "    \"\"\"\n",
    "    lines = cv2.HoughLinesP(img, rho, theta, threshold, np.array([]), minLineLength=min_line_len, maxLineGap=max_line_gap)\n",
    "    return lines\n",
    "\n",
    "# Python 3 has support for cool math symbols.\n",
    "\n",
    "def weighted_img(img, initial_img, α=0.8, β=1., λ=0.):\n",
    "    \"\"\"\n",
    "    `img` is the output of the hough_lines(), An image with lines drawn on it.\n",
    "    Should be a blank image (all black) with lines drawn on it.\n",
    "    \n",
    "    `initial_img` should be the image before any processing.\n",
    "    \n",
    "    The result image is computed as follows:\n",
    "    \n",
    "    initial_img * α + img * β + λ\n",
    "    NOTE: initial_img and img must be the same shape!\n",
    "    \"\"\"\n",
    "    return cv2.addWeighted(initial_img, α, img, β, λ)\n",
    "    \n",
    "    \n",
    "def aprox_lines(img, lines, minY, maxY, tolDeg=7 ,estDeg=32 ,color=[255, 0, 0], thickness=10):\n",
    "    \"\"\"\n",
    "    This function draws aproximate lines on detected left line and right line\n",
    "    \n",
    "    It takse original image and lines detected by hough transform\n",
    "    minY tells the function where the line should start\n",
    "    maxY tells the function where the line should end\n",
    "    tolDeg tells what should be tollerance of the line inclenation from the mean value\n",
    "    minDeg tells what is the minimum inclenation of the line to be included\n",
    "    \n",
    "    Returns valid flag and combined images with marked left and right line\n",
    "    \"\"\"\n",
    "    marked = np.zeros((img.shape[0], img.shape[1], 3), dtype=np.uint8)\n",
    "    leftX = []\n",
    "    leftY = []\n",
    "    rightX = []\n",
    "    rightY = []\n",
    "    for line in lines:\n",
    "        for x1,y1,x2,y2 in line:\n",
    "            degs = np.arctan((y1-y2)/(x2-x1))*180/np.pi # y1-y2 to get the angle from the car\n",
    "            #print('\\n Degs ' + str(degs))\n",
    "            if degs > (-estDeg-tolDeg) and degs < (-estDeg+tolDeg):\n",
    "                #right line\n",
    "                rightX.append(x1)\n",
    "                rightY.append(y1)\n",
    "                rightX.append(x2)\n",
    "                rightY.append(y2)\n",
    "            if degs > (estDeg-tolDeg) and degs < (estDeg+tolDeg):\n",
    "                #left line\n",
    "                leftX.append(x1)\n",
    "                leftY.append(y1)\n",
    "                leftX.append(x2)\n",
    "                leftY.append(y2)\n",
    "    #left fit\n",
    "    if len(leftX) == 0 or len(leftY) == 0 or len(rightX) == 0 or len(rightY) == 0:\n",
    "        return False, marked\n",
    "    \n",
    "    fitLeft = np.polyfit(leftX, leftY, 1)\n",
    "    if fitLeft[0] == 0:\n",
    "        cv2.line(marked, (mean(leftX), minY), (mean(leftX), maxY), color, thickness)\n",
    "    else:\n",
    "        cv2.line(marked, (int((minY-fitLeft[1])/fitLeft[0]), minY), (int((maxY-fitLeft[1])/fitLeft[0]), maxY), color, thickness)\n",
    "    #right fit\n",
    "    fitRight = np.polyfit(rightX, rightY, 1)\n",
    "    if fitRight[0] == 0:\n",
    "        cv2.line(marked, (mean(RightX), minY), (mean(RightX), maxY), color, thickness)\n",
    "    else:\n",
    "        cv2.line(marked, (int((minY-fitRight[1])/fitRight[0]), minY), (int((maxY-fitRight[1])/fitRight[0]), maxY), color, thickness)\n",
    "    combinedImg = weighted_img(marked, img)\n",
    "    return True, combinedImg \n",
    "\n",
    "def setGreyToBlack(img, threshold=205):\n",
    "    \"\"\"\n",
    "    This function sets all grey pixels to black color\n",
    "    \n",
    "    img RGB image\n",
    "    threshold R, G and B needs to be below this value for grey \n",
    "    \"\"\"  \n",
    "    width = img.shape[0]\n",
    "    height = img.shape[1]\n",
    "    out = np.zeros((width, height, 3), dtype=np.uint8)\n",
    "    for x in range(width):\n",
    "        for y in range(height):\n",
    "            r = img.item(x, y, 0)\n",
    "            g = img.item(x, y, 1)\n",
    "            b = img.item(x, y, 2)\n",
    "            if r > threshold or g > threshold or b > threshold:\n",
    "                out.itemset((x, y, 0), r)\n",
    "                out.itemset((x, y, 1), g)\n",
    "                out.itemset((x, y, 2), b)\n",
    "            else:\n",
    "                out.itemset((x, y, 0), 0)\n",
    "                out.itemset((x, y, 1), 0)\n",
    "                out.itemset((x, y, 2), 0)\n",
    "    return out\n",
    "\n",
    "def binImgFromGrey(img, threshold=210):\n",
    "    \"\"\"\n",
    "    This function sets all grey pixels to black color\n",
    "    \n",
    "    img RGB image\n",
    "    threshold R, G and B needs to be below this value for grey \n",
    "    \"\"\"  \n",
    "    return cv2.bitwise_not(cv2.inRange(img, np.array([0, 0, 0]), np.array([threshold, threshold, threshold])))\n",
    "\n",
    "def greyToBin (img):\n",
    "    \"\"\"\n",
    "    This function converts grey scale image to binary\n",
    "    \n",
    "    img Greyscale image\n",
    "    \"\"\"  \n",
    "    return cv2.adaptiveThreshold(img, 255, cv2.ADAPTIVE_THRESH_GAUSSIAN_C, cv2.THRESH_BINARY,11,2)"
   ]
  },
  {
   "cell_type": "code",
   "execution_count": 3,
   "metadata": {},
   "outputs": [
    {
     "data": {
      "text/plain": [
       "['solidWhiteCurve.jpg',\n",
       " 'solidWhiteRight.jpg',\n",
       " 'solidYellowCurve.jpg',\n",
       " 'solidYellowCurve2.jpg',\n",
       " 'solidYellowLeft.jpg',\n",
       " 'whiteCarLaneSwitch.jpg']"
      ]
     },
     "execution_count": 3,
     "metadata": {},
     "output_type": "execute_result"
    }
   ],
   "source": [
    "import os\n",
    "os.listdir(\"test_images/\")"
   ]
  },
  {
   "cell_type": "markdown",
   "metadata": {},
   "source": [
    "## Build a Lane Finding Pipeline\n",
    "\n"
   ]
  },
  {
   "cell_type": "markdown",
   "metadata": {},
   "source": [
    "Build the pipeline and run your solution on all test_images. Make copies into the `test_images_output` directory, and you can use the images in your writeup report.\n",
    "\n",
    "Try tuning the various parameters, especially the low and high Canny thresholds as well as the Hough lines parameters."
   ]
  },
  {
   "cell_type": "code",
   "execution_count": null,
   "metadata": {
    "scrolled": false
   },
   "outputs": [],
   "source": [
    "# TODO: Build your pipeline that will draw lane lines on the test_images\n",
    "# then save them to the test_images_output directory.\n",
    "#debug = True\n",
    "debug = False\n",
    "imgList = os.listdir(\"challange_images/\")\n",
    "#imgList1 = [imgList[0]]\n",
    "#for imgName in imgList1:\n",
    "for imgName in imgList:\n",
    "    image = mpimg.imread('challange_images/' + imgName)\n",
    "    gray = binImgFromGrey(image)\n",
    "    print('Image ', imgName, 'with dimensions:', gray.shape)\n",
    "    if debug:\n",
    "        plt.figure()\n",
    "        plt.title('Grayscale Original')\n",
    "        plt.imshow(gray, cmap='gray')\n",
    "\n",
    "#    imageBin = greyToBin(gray)\n",
    "#   if debug:\n",
    "#       plt.figure()\n",
    "#       plt.title('Binary image')\n",
    "#       plt.imshow(imageBin, cmap='gray')\n",
    "\n",
    "    krnelSize = 5 # gaussian bluring kernel size larger filters more\n",
    "    grayGaus = gaussian_blur(gray, krnelSize)\n",
    "    if debug:\n",
    "        plt.figure()\n",
    "        plt.title('After Gausian blur kernel ' + str(krnelSize))\n",
    "        plt.imshow(grayGaus, cmap='gray')\n",
    "\n",
    "    lowThreshold = 30  # Low treshold defines gradiend value above which pixel is marked as edge if connected to strong pixel\n",
    "    highThreshold = 80 # High treshold defines gradiend value above which pixel is always marked as edge\n",
    "    cannyTrans = canny(grayGaus, lowThreshold, highThreshold)\n",
    "    if debug:\n",
    "        plt.figure()\n",
    "        plt.title('Canny transform lowThr ' + str(lowThreshold) + ' highThr '  + str(highThreshold))\n",
    "        plt.imshow(cannyTrans, cmap='gray')\n",
    "\n",
    "    imshape = cannyTrans.shape\n",
    "    vertices = np.array([[(220,imshape[0]-50),(570, 440), (imshape[1]-570, 440), (imshape[1]-200,imshape[0]-50)]], dtype=np.int32) # define region of intrest\n",
    "    cannyRegion = region_of_interest(cannyTrans, vertices)\n",
    "    if debug:\n",
    "        plt.figure()\n",
    "        plt.title('Canny region \\n' + str(vertices))\n",
    "        plt.imshow(cannyRegion, cmap='gray')\n",
    "\n",
    "    rho = 2          # distance resolution in pixels of the Hough grid\n",
    "    theta = np.pi/180# angular resolution in radians of the Hough grid\n",
    "    threshold = 15   # minimum number of votes (intersections in Hough grid cell)\n",
    "    minLineLen = 10  # minimum number of pixels making up a line\n",
    "    maxLineGap = 15  # maximum gap in pixels between connectable line segments\n",
    "    houghLines = hough_lines(cannyRegion, rho, theta, threshold, minLineLen, maxLineGap)\n",
    "    houghLinesImg = np.zeros((cannyRegion.shape[0], cannyRegion.shape[1], 3), dtype=np.uint8)\n",
    "    #houghLinesImg = np.zeros_like(cannyRegion)\n",
    "    draw_lines(houghLinesImg, houghLines)\n",
    "    if debug:\n",
    "        plt.figure()\n",
    "        plt.title('Hough lines rho ' + str(rho) + ' theta ' + str(theta*180/np.pi) + '\\N{DEGREE SIGN} \\n threshold ' + str(threshold) + ' minLineLen ' + str(minLineLen) + ' maxLineGap ' + str(maxLineGap))\n",
    "        plt.imshow(houghLinesImg)\n",
    "        plt.figure()\n",
    "        plt.title('Hough lines combined ')\n",
    "        plt.imshow(weighted_img(image, houghLinesImg))\n",
    "\n",
    "    valid, markedImage = aprox_lines(image, houghLines, vertices[0,1][1], vertices[0,0][1])\n",
    "    plt.figure()\n",
    "    plt.title('Marked lines combined ')\n",
    "    plt.imshow(markedImage)\n",
    "\n",
    "    cv2.imwrite('challange_images_output/' + imgName, cv2.cvtColor(markedImage, cv2.COLOR_RGB2BGR))"
   ]
  },
  {
   "cell_type": "markdown",
   "metadata": {},
   "source": [
    "## Test on Videos\n",
    "\n",
    "You know what's cooler than drawing lanes over images? Drawing lanes over video!\n",
    "\n",
    "We can test our solution on two provided videos:\n",
    "\n",
    "`solidWhiteRight.mp4`\n",
    "\n",
    "`solidYellowLeft.mp4`\n",
    "\n",
    "**Note: if you get an import error when you run the next cell, try changing your kernel (select the Kernel menu above --> Change Kernel). Still have problems? Try relaunching Jupyter Notebook from the terminal prompt. Also, consult the forums for more troubleshooting tips.**\n",
    "\n",
    "**If you get an error that looks like this:**\n",
    "```\n",
    "NeedDownloadError: Need ffmpeg exe. \n",
    "You can download it by calling: \n",
    "imageio.plugins.ffmpeg.download()\n",
    "```\n",
    "**Follow the instructions in the error message and check out [this forum post](https://discussions.udacity.com/t/project-error-of-test-on-videos/274082) for more troubleshooting tips across operating systems.**"
   ]
  },
  {
   "cell_type": "code",
   "execution_count": 4,
   "metadata": {},
   "outputs": [],
   "source": [
    "# Import everything needed to edit/save/watch video clips\n",
    "from moviepy.editor import VideoFileClip\n",
    "from IPython.display import HTML"
   ]
  },
  {
   "cell_type": "code",
   "execution_count": 7,
   "metadata": {},
   "outputs": [],
   "source": [
    "def process_image(image):\n",
    "    greyThreshold = 220\n",
    "    valid = False\n",
    "    while greyThreshold > 5 and valid == False:\n",
    "        gray = binImgFromGrey(image, greyThreshold)\n",
    "\n",
    "        krnelSize = 5 # gaussian bluring kernel size larger filters more\n",
    "        grayGaus = gaussian_blur(gray, krnelSize)\n",
    "\n",
    "        lowThreshold = 40   # Low treshold defines gradiend value above which pixel is marked as edge if connected to strong pixel\n",
    "        highThreshold = 100 # High treshold defines gradiend value above which pixel is always marked as edge\n",
    "        cannyTrans = canny(grayGaus, lowThreshold, highThreshold)\n",
    "\n",
    "        cannyRegion = region_of_interest(cannyTrans, vertices)\n",
    "\n",
    "        rho = 2          # distance resolution in pixels of the Hough grid\n",
    "        theta = np.pi/180# angular resolution in radians of the Hough grid\n",
    "        threshold = 15   # minimum number of votes (intersections in Hough grid cell)\n",
    "        minLineLen = 10  # minimum number of pixels making up a line\n",
    "        maxLineGap = 15  # maximum gap in pixels between connectable line segments\n",
    "        houghLines = hough_lines(cannyRegion, rho, theta, threshold, minLineLen, maxLineGap)\n",
    "        valid, markedImage = aprox_lines(image, houghLines, vertices[0,1][1], vertices[0,0][1])\n",
    "        greyThreshold = greyThreshold - 5\n",
    "    return markedImage"
   ]
  },
  {
   "cell_type": "markdown",
   "metadata": {},
   "source": [
    "Let's try the one with the solid white lane on the right first ..."
   ]
  },
  {
   "cell_type": "code",
   "execution_count": null,
   "metadata": {},
   "outputs": [],
   "source": [
    "white_output = 'test_videos_output/solidWhiteRight.mp4'\n",
    "## To speed up the testing process you may want to try your pipeline on a shorter subclip of the video\n",
    "## To do so add .subclip(start_second,end_second) to the end of the line below\n",
    "## Where start_second and end_second are integer values representing the start and end of the subclip\n",
    "## You may also uncomment the following line for a subclip of the first 5 seconds\n",
    "#clip1 = VideoFileClip(\"test_videos/solidWhiteRight.mp4\").subclip(0,5)\n",
    "clip1 = VideoFileClip(\"test_videos/solidWhiteRight.mp4\")\n",
    "imshape = clip1.get_frame(1).shape\n",
    "vertices = np.array([[(50,imshape[0]),(420, 330), (imshape[1]-420, 330), (imshape[1]-50,imshape[0])]], dtype=np.int32) # define region of intrest\n",
    "white_clip = clip1.fl_image(process_image) #NOTE: this function expects color images!!\n",
    "%time white_clip.write_videofile(white_output, audio=False)"
   ]
  },
  {
   "cell_type": "markdown",
   "metadata": {},
   "source": [
    "Play the video inline, or if you prefer find the video in your filesystem (should be in the same directory) and play it in your video player of choice."
   ]
  },
  {
   "cell_type": "code",
   "execution_count": null,
   "metadata": {
    "scrolled": true
   },
   "outputs": [],
   "source": [
    "HTML(\"\"\"\n",
    "<video width=\"960\" height=\"540\" controls>\n",
    "  <source src=\"{0}\">\n",
    "</video>\n",
    "\"\"\".format(white_output))"
   ]
  },
  {
   "cell_type": "markdown",
   "metadata": {},
   "source": [
    "## Improve the draw_lines() function\n",
    "\n",
    "**At this point, if you were successful with making the pipeline and tuning parameters, you probably have the Hough line segments drawn onto the road, but what about identifying the full extent of the lane and marking it clearly as in the example video (P1_example.mp4)?  Think about defining a line to run the full length of the visible lane based on the line segments you identified with the Hough Transform. As mentioned previously, try to average and/or extrapolate the line segments you've detected to map out the full extent of the lane lines. You can see an example of the result you're going for in the video \"P1_example.mp4\".**\n",
    "\n",
    "**Go back and modify your draw_lines function accordingly and try re-running your pipeline. The new output should draw a single, solid line over the left lane line and a single, solid line over the right lane line. The lines should start from the bottom of the image and extend out to the top of the region of interest.**"
   ]
  },
  {
   "cell_type": "markdown",
   "metadata": {},
   "source": [
    "Now for the one with the solid yellow lane on the left. This one's more tricky!"
   ]
  },
  {
   "cell_type": "code",
   "execution_count": null,
   "metadata": {},
   "outputs": [],
   "source": [
    "yellow_output = 'test_videos_output/solidYellowLeft.mp4'\n",
    "## To speed up the testing process you may want to try your pipeline on a shorter subclip of the video\n",
    "## To do so add .subclip(start_second,end_second) to the end of the line below\n",
    "## Where start_second and end_second are integer values representing the start and end of the subclip\n",
    "## You may also uncomment the following line for a subclip of the first 5 seconds\n",
    "##clip2 = VideoFileClip('test_videos/solidYellowLeft.mp4').subclip(0,5)\n",
    "clip2 = VideoFileClip('test_videos/solidYellowLeft.mp4')\n",
    "imshape = clip2.get_frame(1).shape\n",
    "vertices = np.array([[(50,imshape[0]),(420, 330), (imshape[1]-420, 330), (imshape[1]-50,imshape[0])]], dtype=np.int32) # define region of intrest\n",
    "yellow_clip = clip2.fl_image(process_image)\n",
    "%time yellow_clip.write_videofile(yellow_output, audio=False)"
   ]
  },
  {
   "cell_type": "code",
   "execution_count": null,
   "metadata": {},
   "outputs": [],
   "source": [
    "HTML(\"\"\"\n",
    "<video width=\"960\" height=\"540\" controls>\n",
    "  <source src=\"{0}\">\n",
    "</video>\n",
    "\"\"\".format(yellow_output))"
   ]
  },
  {
   "cell_type": "markdown",
   "metadata": {},
   "source": [
    "## Writeup and Submission\n",
    "\n",
    "If you're satisfied with your video outputs, it's time to make the report writeup in a pdf or markdown file. Once you have this Ipython notebook ready along with the writeup, it's time to submit for review! Here is a [link](https://github.com/udacity/CarND-LaneLines-P1/blob/master/writeup_template.md) to the writeup template file.\n"
   ]
  },
  {
   "cell_type": "markdown",
   "metadata": {
    "collapsed": true
   },
   "source": [
    "## Optional Challenge\n",
    "\n",
    "Try your lane finding pipeline on the video below.  Does it still work?  Can you figure out a way to make it more robust?  If you're up for the challenge, modify your pipeline so it works with this video and submit it along with the rest of your project!"
   ]
  },
  {
   "cell_type": "code",
   "execution_count": 8,
   "metadata": {
    "scrolled": true
   },
   "outputs": [
    {
     "name": "stdout",
     "output_type": "stream",
     "text": [
      "[MoviePy] >>>> Building video test_videos_output/challenge.mp4\n",
      "[MoviePy] Writing video test_videos_output/challenge.mp4\n"
     ]
    },
    {
     "name": "stderr",
     "output_type": "stream",
     "text": [
      "100%|████████████████████████████████████████| 251/251 [00:05<00:00, 41.93it/s]\n"
     ]
    },
    {
     "name": "stdout",
     "output_type": "stream",
     "text": [
      "[MoviePy] Done.\n",
      "[MoviePy] >>>> Video ready: test_videos_output/challenge.mp4 \n",
      "\n",
      "Wall time: 6.72 s\n"
     ]
    }
   ],
   "source": [
    "challenge_output = 'test_videos_output/challenge.mp4'\n",
    "## To speed up the testing process you may want to try your pipeline on a shorter subclip of the video\n",
    "## To do so add .subclip(start_second,end_second) to the end of the line below\n",
    "## Where start_second and end_second are integer values representing the start and end of the subclip\n",
    "## You may also uncomment the following line for a subclip of the first 5 seconds\n",
    "##clip3 = VideoFileClip('test_videos/challenge.mp4').subclip(0,5)\n",
    "clip3 = VideoFileClip('test_videos/challenge.mp4')\n",
    "imshape = clip3.get_frame(0).shape\n",
    "#vertices = np.array([[(50,imshape[0]),(420, 330), (imshape[1]-420, 330), (imshape[1]-50,imshape[0])]], dtype=np.int32) # define region of intrest\n",
    "vertices = np.array([[(220,imshape[0]-50),(570, 440), (imshape[1]-570, 440), (imshape[1]-200,imshape[0]-50)]], dtype=np.int32) # define region of intrest\n",
    "challenge_clip = clip3.fl_image(process_image)\n",
    "%time challenge_clip.write_videofile(challenge_output, audio=False)"
   ]
  },
  {
   "cell_type": "code",
   "execution_count": null,
   "metadata": {},
   "outputs": [],
   "source": [
    "HTML(\"\"\"\n",
    "<video width=\"960\" height=\"540\" controls>\n",
    "  <source src=\"{0}\">\n",
    "</video>\n",
    "\"\"\".format(challenge_output))"
   ]
  }
 ],
 "metadata": {
  "anaconda-cloud": {},
  "kernelspec": {
   "display_name": "Python 3",
   "language": "python",
   "name": "python3"
  },
  "language_info": {
   "codemirror_mode": {
    "name": "ipython",
    "version": 3
   },
   "file_extension": ".py",
   "mimetype": "text/x-python",
   "name": "python",
   "nbconvert_exporter": "python",
   "pygments_lexer": "ipython3",
   "version": "3.5.2"
  },
  "widgets": {
   "state": {},
   "version": "1.1.2"
  }
 },
 "nbformat": 4,
 "nbformat_minor": 1
}
